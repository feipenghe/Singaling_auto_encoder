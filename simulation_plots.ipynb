{
 "cells": [
  {
   "cell_type": "markdown",
   "metadata": {},
   "source": [
    "# Signaling Game Simulation Plots"
   ]
  },
  {
   "cell_type": "markdown",
   "metadata": {},
   "source": [
    "## Requirements"
   ]
  },
  {
   "cell_type": "code",
   "execution_count": 1,
   "metadata": {
    "pycharm": {
     "is_executing": false
    }
   },
   "outputs": [],
   "source": [
    "import json\n",
    "import matplotlib.pyplot as plt\n",
    "import numpy as np\n",
    "from typing import *\n",
    "\n",
    "import plots\n",
    "import simulations\n",
    "import utils\n",
    "\n",
    "plt.style.use('seaborn-whitegrid')"
   ]
  },
  {
   "cell_type": "markdown",
   "metadata": {},
   "source": [
    "## Load a simulation"
   ]
  },
  {
   "cell_type": "code",
   "execution_count": 2,
   "metadata": {
    "pycharm": {
     "is_executing": false
    }
   },
   "outputs": [
    {
     "name": "stderr",
     "output_type": "stream",
     "text": [
      "/Users/murphy/anaconda3/envs/signaling_auto_encoder/lib/python3.8/site-packages/dataclasses_json/core.py:142: RuntimeWarning: `NoneType` object value of non-optional type target_function detected when decoding Simulation.\n",
      "  warnings.warn(f\"`NoneType` object {warning}.\", RuntimeWarning)\n",
      "/Users/murphy/anaconda3/envs/signaling_auto_encoder/lib/python3.8/site-packages/dataclasses_json/core.py:142: RuntimeWarning: `NoneType` object value of non-optional type context_generator detected when decoding Simulation.\n",
      "  warnings.warn(f\"`NoneType` object {warning}.\", RuntimeWarning)\n"
     ]
    }
   ],
   "source": [
    "# simulation_name = \"acl_ready/extremity_game_acl_o_5__object_size_5__strict_context_1__shared_context_1__nature_includes_function_1__num_objects_10__mini_batch_size_128__num_batches_5000\"\n",
    "simulation_name = \"extremity_game_acl_4__o_15__s_1__n_5__m_2__l_cross_entropy\"\n",
    "simulation = simulations.load_simulation(simulation_name)\n",
    "evaluations = simulation.evaluations\n",
    "# print(simulation.name)"
   ]
  },
  {
   "cell_type": "code",
   "execution_count": 3,
   "metadata": {
    "pycharm": {
     "is_executing": false
    }
   },
   "outputs": [
    {
     "name": "stdout",
     "output_type": "stream",
     "text": [
      "extremity_game_acl_4__o_15__s_1__n_5__m_2__l_cross_entropy\n",
      "Simulation message sizes: [2]\n",
      "Number of trials per evaluation: 1\n"
     ]
    }
   ],
   "source": [
    "print(simulation.experiment_name)\n",
    "print(f\"Simulation message sizes: {list(evaluations.keys())}\")\n",
    "print(f\"Number of trials per evaluation: {len(evaluations[2])}\")"
   ]
  },
  {
   "cell_type": "markdown",
   "metadata": {},
   "source": [
    "## Available simulations\n"
   ]
  },
  {
   "cell_type": "code",
   "execution_count": 6,
   "metadata": {
    "pycharm": {
     "is_executing": false,
     "name": "#%%\n"
    }
   },
   "outputs": [
    {
     "data": {
      "text/plain": [
       "1"
      ]
     },
     "execution_count": 6,
     "metadata": {},
     "output_type": "execute_result"
    }
   ],
   "source": [
    "int(True)"
   ]
  },
  {
   "cell_type": "code",
   "execution_count": 12,
   "metadata": {
    "pycharm": {
     "is_executing": false
    }
   },
   "outputs": [],
   "source": [
    "\n",
    "# strict_context_simulations = {\n",
    "#     # O=5\n",
    "#     \"Strict\\nshared\\nO=5, C=(10,5)\": \"acl_ready/extremity_game_acl_o_5__object_size_5__strict_context_1__shared_context_1__nature_includes_function_1__num_objects_10__mini_batch_size_128__num_batches_5000\",\n",
    "#     \"Strict\\nnon-shared\\nO=5, C=(10,5)\": \"acl_ready/extremity_game_acl_o_5__object_size_5__strict_context_1__shared_context_0__nature_includes_function_1__num_objects_10__mini_batch_size_128__num_batches_5000\",\n",
    "#     # O=3\n",
    "#     \"Strict\\nshared\\nO=3, C=(6,3)\": \"acl_ready/extremity_game_acl_o_3__object_size_3__strict_context_1__shared_context_1__nature_includes_function_1__num_objects_6__mini_batch_size_128__num_batches_5000\",\n",
    "#     \"Strict\\nnon-shared\\nO=3, C=(6,3)\": \"acl_ready/extremity_game_acl_o_3__object_size_3__strict_context_1__shared_context_0__nature_includes_function_1__num_objects_6__mini_batch_size_128__num_batches_5000\",\n",
    "# }\n",
    "\n",
    "strict_context_simulations = {\n",
    "    # O=5\n",
    "    \"Strict\\nshared\\nO=5, C=(10,5)\": \"extremity_game_acl_4__o_15__s_1__n_5__m_2__l_cross_entropy\"\n",
    "                                     \n",
    "}\n",
    "\n",
    "# non_strict_context_simulations = {\n",
    "#     # O=5\n",
    "#     \"Non-strict\\nshared\\nO=5, C=(10,5)\": \"acl_ready/extremity_game_acl_o_5__object_size_5__strict_context_0__shared_context_1__nature_includes_function_1__num_objects_10__mini_batch_size_128__num_batches_5000\",\n",
    "#     \"Non-Strict\\nnon-shared\\nO=5, C=(10,5)\": \"acl_ready/extremity_game_acl_o_5__object_size_5__strict_context_0__shared_context_0__nature_includes_function_1__num_objects_10__mini_batch_size_128__num_batches_5000\",\n",
    "#     \"Non-strict\\nshared\\nO=5, C=(15,5)\": \"acl_ready/extremity_game_acl_o_5__object_size_5__strict_context_0__shared_context_1__nature_includes_function_1__num_objects_15__mini_batch_size_128__num_batches_5000\",\n",
    "#     \"Non-strict\\nnon-shared\\nO=5, C=(15,5)\": \"acl_ready/extremity_game_acl_o_5__object_size_5__strict_context_0__shared_context_0__nature_includes_function_1__num_objects_15__mini_batch_size_128__num_batches_5000\",\n",
    "#     \"Non-strict\\nshared\\nO=5, C=(5,5)\": \"acl_ready/extremity_game_acl_o_5__object_size_5__strict_context_0__shared_context_1__nature_includes_function_1__num_objects_5__mini_batch_size_128__num_batches_5000\",\n",
    "#     \"Non-strict\\nnon-shared\\nO=5, C=(5,5)\": \"acl_ready/extremity_game_acl_o_5__object_size_5__strict_context_0__shared_context_0__nature_includes_function_1__num_objects_5__mini_batch_size_128__num_batches_5000\",\n",
    "#     # O=3\n",
    "#     \"Non-strict\\nshared\\nO=3, C=(6,3)\": \"acl_ready/extremity_game_acl_o_3__object_size_3__strict_context_0__shared_context_1__nature_includes_function_1__num_objects_6__mini_batch_size_128__num_batches_5000\",\n",
    "#     \"Non-strict\\nnon-shared\\nO=3, C=(6,3)\": \"acl_ready/extremity_game_acl_o_3__object_size_3__strict_context_0__shared_context_0__nature_includes_function_1__num_objects_6__mini_batch_size_128__num_batches_5000\",    \n",
    "# }\n",
    "\n",
    "non_strict_context_simulations = {\n",
    "    # O=5\n",
    "    \"Non-strict\\nshared\\nO=5, C=(10,5)\": \"extremity_game_acl_4__o_15__s_1__n_5__m_2__l_mse\"\n",
    "    }\n",
    "\n",
    "# Encoder input is <c, f(c)>\n",
    "\n",
    "nature_includes_fc_simulations = {\n",
    "    # O=5\n",
    "    \"F(c) input\\nStrict\\nshared\\nO=5, C=(10,5)\": \"acl_ready/extremity_game_acl_o_5__object_size_5__strict_context_1__shared_context_1__nature_includes_function_0__num_objects_10__mini_batch_size_128__num_batches_5000\",\n",
    "    \"F(c) input\\nStrict\\nnon-shared\\nO=5, C=(10,5)\": \"acl_ready/extremity_game_acl_o_5__object_size_5__strict_context_1__shared_context_0__nature_includes_function_0__num_objects_10__mini_batch_size_128__num_batches_5000\",\n",
    "\n",
    "    \"F(c) input\\nNon-strict\\nshared\\nO=5\\nC=(5,5)\": \"acl_ready/extremity_game_acl_o_5__object_size_5__strict_context_0__shared_context_1__nature_includes_function_0__num_objects_5__mini_batch_size_128__num_batches_5000\",\n",
    "    \"F(c) input\\nNon-strict\\nnon-shared\\nO=5\\nC=(5,5)\": \"acl_ready/extremity_game_acl_o_5__object_size_5__strict_context_0__shared_context_0__nature_includes_function_0__num_objects_5__mini_batch_size_128__num_batches_5000\",\n",
    "    \"F(c) input\\nNon-strict\\nshared\\nO=5\\nC=(10,5)\": \"acl_ready/extremity_game_acl_o_5__object_size_5__strict_context_0__shared_context_1__nature_includes_function_0__num_objects_10__mini_batch_size_128__num_batches_5000\",\n",
    "    \"F(c) input\\nNon-strict\\nnon-shared\\nO=5\\nC=(10,5)\": \"acl_ready/extremity_game_acl_o_5__object_size_5__strict_context_0__shared_context_0__nature_includes_function_0__num_objects_10__mini_batch_size_128__num_batches_5000\",\n",
    "    \"F(c) input\\nNon-strict\\nshared\\nO=5\\nC=(15,5)\": \"acl_ready/extremity_game_acl_o_5__object_size_5__strict_context_0__shared_context_1__nature_includes_function_0__num_objects_15__mini_batch_size_128__num_batches_5000\",\n",
    "    \"F(c) input\\nNon-strict\\nnon-shared\\nO=5\\nC=(15,5)\": \"acl_ready/extremity_game_acl_o_5__object_size_5__strict_context_0__shared_context_0__nature_includes_function_0__num_objects_15__mini_batch_size_128__num_batches_5000\",\n",
    "\n",
    "    # O=3\n",
    "    \"F(c) input\\nStrict\\nshared\\nO=3\\nC=(6,3)\": \"acl_ready/extremity_game_acl_o_3__object_size_3__strict_context_1__shared_context_1__nature_includes_function_0__num_objects_6__mini_batch_size_128__num_batches_5000\",\n",
    "    \"F(c) input\\nStrict\\nnon-shared\\nO=3\\nC=(6,3)\": \"acl_ready/extremity_game_acl_o_3__object_size_3__strict_context_1__shared_context_0__nature_includes_function_0__num_objects_6__mini_batch_size_128__num_batches_5000\",\n",
    "    \n",
    "    \"F(c) input\\nNon-strict\\nshared\\nO=3\\nC=(6,3)\": \"acl_ready/extremity_game_acl_o_3__object_size_3__strict_context_0__shared_context_1__nature_includes_function_0__num_objects_6__mini_batch_size_128__num_batches_5000\",\n",
    "    \"F(c) input\\nNon-strict\\nnon-shared\\nO=3\\nC=(6,3)\": \"acl_ready/extremity_game_acl_o_3__object_size_3__strict_context_0__shared_context_0__nature_includes_function_0__num_objects_6__mini_batch_size_128__num_batches_5000\",\n",
    "}\n",
    "\n",
    "# Untrained\n",
    "\n",
    "untrained_simulations = {\n",
    "    \"Strict, shared\\nO=5, C=(10,5)\": \"acl_ready/extremity_game_acl_untrained__object_size_5__strict_context_1__shared_context_1__nature_includes_function_1__num_objects_6__mini_batch_size_128__num_batches_0\",\n",
    "    \"Strict, shared\\nO=3, C=(6,3)\": \"acl_ready/extremity_game_acl_untrained__object_size_3__strict_context_1__shared_context_1__nature_includes_function_1__num_objects_6__mini_batch_size_128__num_batches_0\",\n",
    "}"
   ]
  },
  {
   "cell_type": "markdown",
   "metadata": {},
   "source": [
    "## Available evaluations"
   ]
  },
  {
   "cell_type": "code",
   "execution_count": 13,
   "metadata": {
    "pycharm": {
     "is_executing": false
    }
   },
   "outputs": [
    {
     "name": "stdout",
     "output_type": "stream",
     "text": [
      "training_losses\n",
      "object_prediction_accuracy\n",
      "detected_num_clusters\n",
      "object_prediction_by_cluster_loss\n",
      "predictions_by_average_msg_loss\n",
      "predictions_by_average_msg_accuracy\n",
      "addition_compositionality_mean_message_loss\n",
      "addition_compositionality_mean_message_cluster_accuracy\n",
      "addition_compositionality_mean_prediction_loss\n",
      "addition_compositionality_mean_prediction_accuracy\n",
      "analogy_compositionality_net_message_mean_loss\n",
      "analogy_compositionality_net_message_cluster_mean_accuracy\n",
      "analogy_compositionality_net_prediction_mean_loss\n",
      "analogy_compositionality_net_prediction_mean_accuracy\n",
      "compositionality_net_message_mean_loss\n",
      "compositionality_net_message_cluster_mean_accuracy\n",
      "compositionality_net_prediction_mean_loss\n",
      "compositionality_net_prediction_mean_accuracy\n",
      "functions_from_messages\n",
      "min_max_from_messages\n",
      "dimension_from_messages\n",
      "sanity_from_messages\n",
      "object_by_context_from_messages\n",
      "object_by_decoder_context_from_messages\n",
      "context_from_messages\n",
      "decoder_context_from_messages\n"
     ]
    }
   ],
   "source": [
    "print('\\n'.join(evaluations[2][0].keys()))"
   ]
  },
  {
   "cell_type": "markdown",
   "metadata": {},
   "source": [
    "## Helper functions"
   ]
  },
  {
   "cell_type": "code",
   "execution_count": 14,
   "metadata": {
    "pycharm": {
     "is_executing": false
    }
   },
   "outputs": [],
   "source": [
    "def get_evaluation_mean_and_err(simulation_name, evaluation_name, message_size, percents=False) -> float:\n",
    "    simulation = simulations.load_simulation(simulation_name)\n",
    "    vals = []\n",
    "    print(\"evaluation name: \", evaluation_name)\n",
    "    \n",
    "    for trial in simulation.evaluations[message_size]:\n",
    "        print(\"trial: \", trial.keys())\n",
    "        vals.append(trial[evaluation_name])\n",
    "    if percents:\n",
    "        vals = np.array(vals) * 100\n",
    "    return np.mean(vals), np.std(vals)"
   ]
  },
  {
   "cell_type": "code",
   "execution_count": 16,
   "metadata": {
    "pycharm": {
     "is_executing": false
    }
   },
   "outputs": [],
   "source": [
    "def plot_bars_for_evaluation(evaluation_name, display_names_to_simulation_names, title, y_label, width=18, msg_size=2):\n",
    "    bar_width = 1\n",
    "    num_simulation_sets = len(display_names_to_simulation_names)\n",
    "\n",
    "    fig, ax = plt.subplots(num_simulation_sets, figsize=(width,8*num_simulation_sets))\n",
    "    \n",
    "    for i, (set_name, display_name_to_simulation) in enumerate(display_names_to_simulation_names.items()):\n",
    "        for s, (display_name, file_name) in enumerate(display_name_to_simulation.items()):\n",
    "            mean, err = get_evaluation_mean_and_err(file_name, evaluation_name, msg_size)\n",
    "            ax[i].bar(s, mean, yerr=err, capsize=10, color=f\"C{i}\", label=display_name)    \n",
    "\n",
    "            ax[i].set_title(set_name)\n",
    "            ax[i].set_xticks(range(len(display_name_to_simulation)))\n",
    "            ax[i].set_xticklabels(display_name_to_simulation.keys())\n",
    "            ax[i].set_ylabel(y_label)\n",
    "\n",
    "    fig.suptitle(title, y=0.92, fontsize=15)\n",
    "    plt.show()"
   ]
  },
  {
   "cell_type": "code",
   "execution_count": 17,
   "metadata": {
    "pycharm": {
     "is_executing": false
    }
   },
   "outputs": [],
   "source": [
    "def plot_bars_for_acl(evaluation_name, display_name_to_simulation, title, y_label, msg_size=2):\n",
    "    fig, ax = plt.subplots(1, figsize=(6, 4))\n",
    "    \n",
    "    for s, (display_name, file_name) in enumerate(display_name_to_simulation.items()):\n",
    "        mean, err = get_evaluation_mean_and_err(file_name, evaluation_name, msg_size)\n",
    "        ax.bar(s, mean, yerr=err, capsize=10, color=f\"C{s}\", label=display_name)    \n",
    "\n",
    "        ax.set_xticks(range(len(display_name_to_simulation)))\n",
    "        ax.set_xticklabels(display_name_to_simulation.keys())\n",
    "        ax.set_ylabel(y_label)\n",
    "\n",
    "    fig.suptitle(title, y=0.92, fontsize=15)\n",
    "    plt.show()"
   ]
  },
  {
   "cell_type": "code",
   "execution_count": 18,
   "metadata": {
    "pycharm": {
     "is_executing": false
    }
   },
   "outputs": [],
   "source": [
    "def print_mean_err_for_evaluation(evaluation_name, display_names_to_simulation_names, message_size=2):\n",
    "    for name, sim_name in display_names_to_simulation_names.items():\n",
    "        mean, err = get_evaluation_mean_and_err(sim_name, evaluation_name, message_size)\n",
    "        print(f\"{name}:\\n\\tmean = {mean}\\n\\tstd = {err}\\n\")"
   ]
  },
  {
   "cell_type": "markdown",
   "metadata": {},
   "source": [
    "## ACL Plots"
   ]
  },
  {
   "cell_type": "code",
   "execution_count": 20,
   "metadata": {
    "pycharm": {
     "is_executing": false
    }
   },
   "outputs": [],
   "source": [
    "#                 Shared  | non-shared\n",
    "# Strict                \n",
    "# Non-strict 5\n",
    "# Non-strict 10\n",
    "# Non-strict 15\n",
    "\n",
    "\n",
    "# cells = [\n",
    "#     [\"acl_ready/extremity_game_acl_o_5__object_size_5__strict_context_1__shared_context_1__nature_includes_function_1__num_objects_10__mini_batch_size_128__num_batches_5000\",\n",
    "#     \"acl_ready/extremity_game_acl_o_5__object_size_5__strict_context_1__shared_context_0__nature_includes_function_1__num_objects_10__mini_batch_size_128__num_batches_5000\"],\n",
    "#     \n",
    "#     [\"acl_ready/extremity_game_acl_o_5__object_size_5__strict_context_0__shared_context_1__nature_includes_function_1__num_objects_5__mini_batch_size_128__num_batches_5000\",\n",
    "#     \"acl_ready/extremity_game_acl_o_5__object_size_5__strict_context_0__shared_context_0__nature_includes_function_1__num_objects_5__mini_batch_size_128__num_batches_5000\"],\n",
    "#     \n",
    "#     [\"acl_ready/extremity_game_acl_o_5__object_size_5__strict_context_0__shared_context_1__nature_includes_function_1__num_objects_10__mini_batch_size_128__num_batches_5000\", \n",
    "#      \"acl_ready/extremity_game_acl_o_5__object_size_5__strict_context_0__shared_context_0__nature_includes_function_1__num_objects_10__mini_batch_size_128__num_batches_5000\"],\n",
    "#     \n",
    "#     [\"acl_ready/extremity_game_acl_o_5__object_size_5__strict_context_0__shared_context_1__nature_includes_function_1__num_objects_15__mini_batch_size_128__num_batches_5000\",\n",
    "#     \"acl_ready/extremity_game_acl_o_5__object_size_5__strict_context_0__shared_context_0__nature_includes_function_1__num_objects_15__mini_batch_size_128__num_batches_5000\"]\n",
    "# ]\n",
    "\n",
    "cells = [ [\"extremity_game_acl_4__o_15__s_1__n_5__m_2__l_mse\"],[\"extremity_game_acl_4__o_15__s_1__n_5__m_2__l_cross_entropy\"]    ]\n",
    "\n",
    "cells = np.array(cells)"
   ]
  },
  {
   "cell_type": "code",
   "execution_count": 22,
   "metadata": {
    "pycharm": {
     "is_executing": false
    }
   },
   "outputs": [
    {
     "name": "stdout",
     "output_type": "stream",
     "text": [
      "evaluation name:  addition_compositionality_mean_prediction_loss\n",
      "trial:  dict_keys(['training_losses', 'object_prediction_accuracy', 'detected_num_clusters', 'object_prediction_by_cluster_loss', 'predictions_by_average_msg_loss', 'predictions_by_average_msg_accuracy', 'addition_compositionality_mean_message_loss', 'addition_compositionality_mean_message_cluster_accuracy', 'addition_compositionality_mean_prediction_loss', 'addition_compositionality_mean_prediction_accuracy', 'analogy_compositionality_net_message_mean_loss', 'analogy_compositionality_net_message_cluster_mean_accuracy', 'analogy_compositionality_net_prediction_mean_loss', 'analogy_compositionality_net_prediction_mean_accuracy', 'compositionality_net_message_mean_loss', 'compositionality_net_message_cluster_mean_accuracy', 'compositionality_net_prediction_mean_loss', 'compositionality_net_prediction_mean_accuracy', 'functions_from_messages', 'min_max_from_messages', 'dimension_from_messages', 'sanity_from_messages', 'object_by_context_from_messages', 'object_by_decoder_context_from_messages', 'context_from_messages', 'decoder_context_from_messages'])\n",
      "evaluation name:  analogy_compositionality_net_prediction_mean_loss\n",
      "trial:  dict_keys(['training_losses', 'object_prediction_accuracy', 'detected_num_clusters', 'object_prediction_by_cluster_loss', 'predictions_by_average_msg_loss', 'predictions_by_average_msg_accuracy', 'addition_compositionality_mean_message_loss', 'addition_compositionality_mean_message_cluster_accuracy', 'addition_compositionality_mean_prediction_loss', 'addition_compositionality_mean_prediction_accuracy', 'analogy_compositionality_net_message_mean_loss', 'analogy_compositionality_net_message_cluster_mean_accuracy', 'analogy_compositionality_net_prediction_mean_loss', 'analogy_compositionality_net_prediction_mean_accuracy', 'compositionality_net_message_mean_loss', 'compositionality_net_message_cluster_mean_accuracy', 'compositionality_net_prediction_mean_loss', 'compositionality_net_prediction_mean_accuracy', 'functions_from_messages', 'min_max_from_messages', 'dimension_from_messages', 'sanity_from_messages', 'object_by_context_from_messages', 'object_by_decoder_context_from_messages', 'context_from_messages', 'decoder_context_from_messages'])\n",
      "evaluation name:  addition_compositionality_mean_prediction_loss\n",
      "trial:  dict_keys(['training_losses', 'object_prediction_accuracy', 'detected_num_clusters', 'object_prediction_by_cluster_loss', 'predictions_by_average_msg_loss', 'predictions_by_average_msg_accuracy', 'addition_compositionality_mean_message_loss', 'addition_compositionality_mean_message_cluster_accuracy', 'addition_compositionality_mean_prediction_loss', 'addition_compositionality_mean_prediction_accuracy', 'analogy_compositionality_net_message_mean_loss', 'analogy_compositionality_net_message_cluster_mean_accuracy', 'analogy_compositionality_net_prediction_mean_loss', 'analogy_compositionality_net_prediction_mean_accuracy', 'compositionality_net_message_mean_loss', 'compositionality_net_message_cluster_mean_accuracy', 'compositionality_net_prediction_mean_loss', 'compositionality_net_prediction_mean_accuracy', 'functions_from_messages', 'min_max_from_messages', 'dimension_from_messages', 'sanity_from_messages', 'object_by_context_from_messages', 'object_by_decoder_context_from_messages', 'context_from_messages', 'decoder_context_from_messages'])\n",
      "evaluation name:  analogy_compositionality_net_prediction_mean_loss\n",
      "trial:  dict_keys(['training_losses', 'object_prediction_accuracy', 'detected_num_clusters', 'object_prediction_by_cluster_loss', 'predictions_by_average_msg_loss', 'predictions_by_average_msg_accuracy', 'addition_compositionality_mean_message_loss', 'addition_compositionality_mean_message_cluster_accuracy', 'addition_compositionality_mean_prediction_loss', 'addition_compositionality_mean_prediction_accuracy', 'analogy_compositionality_net_message_mean_loss', 'analogy_compositionality_net_message_cluster_mean_accuracy', 'analogy_compositionality_net_prediction_mean_loss', 'analogy_compositionality_net_prediction_mean_accuracy', 'compositionality_net_message_mean_loss', 'compositionality_net_message_cluster_mean_accuracy', 'compositionality_net_prediction_mean_loss', 'compositionality_net_prediction_mean_accuracy', 'functions_from_messages', 'min_max_from_messages', 'dimension_from_messages', 'sanity_from_messages', 'object_by_context_from_messages', 'object_by_decoder_context_from_messages', 'context_from_messages', 'decoder_context_from_messages'])\n",
      "\n",
      "\\begin{table}[hbt!]\n",
      "\\begin{tabular}{lcccc}\n",
      "\\toprule\n",
      "                       & \\multicolumn{2}{c}{\\textbf{Compositionality by Addition}} & \\multicolumn{2}{c}{\\textbf{Composition Network}} \\\\ \\midrule\n",
      "                       & \\textbf{Shared} & \\textbf{Non-shared} & \\textbf{Shared} & \\textbf{Non-shared} \\\\ \\midrule\n",
      "\\textbf{Strict} & \\\\ \n",
      "\\emph{10 objects} &  $0.11\\pm 0.00$  & XX0,1 &  $0.11\\pm 0.00$  & YY0,1      \\\\ % \\midrule\n",
      "\\textbf{Non-strict} & \\\\\n",
      "\\emph{5 objects} &\n",
      "\t$3.43\\pm 0.00$  & XX1,1 &  $3.46\\pm 0.00$  & YY1,1      \\\\\n",
      "%\\textbf{Non-strict} & \\\\\n",
      "\\emph{10 objects} &\n",
      "\tXX2,0  & XX2,1 &  YY2,0  & YY2,1     \\\\\n",
      "\\emph{15 objects} &\n",
      "\tXX3,0  & XX3,1 &  YY3,0  & YY3,1     \\\\ \\bottomrule\n",
      "\\end{tabular}\n",
      "\\caption{Lossess}\\label{tab:composition_mse_losses}\n",
      "\\end{table}\n",
      "    \n",
      "evaluation name:  addition_compositionality_mean_prediction_loss\n",
      "trial:  dict_keys(['training_losses', 'object_prediction_accuracy', 'detected_num_clusters', 'object_prediction_by_cluster_loss', 'predictions_by_average_msg_loss', 'predictions_by_average_msg_accuracy', 'addition_compositionality_mean_message_loss', 'addition_compositionality_mean_message_cluster_accuracy', 'addition_compositionality_mean_prediction_loss', 'addition_compositionality_mean_prediction_accuracy', 'analogy_compositionality_net_message_mean_loss', 'analogy_compositionality_net_message_cluster_mean_accuracy', 'analogy_compositionality_net_prediction_mean_loss', 'analogy_compositionality_net_prediction_mean_accuracy', 'compositionality_net_message_mean_loss', 'compositionality_net_message_cluster_mean_accuracy', 'compositionality_net_prediction_mean_loss', 'compositionality_net_prediction_mean_accuracy', 'functions_from_messages', 'min_max_from_messages', 'dimension_from_messages', 'sanity_from_messages', 'object_by_context_from_messages', 'object_by_decoder_context_from_messages', 'context_from_messages', 'decoder_context_from_messages'])\n",
      "evaluation name:  analogy_compositionality_net_prediction_mean_loss\n",
      "trial:  dict_keys(['training_losses', 'object_prediction_accuracy', 'detected_num_clusters', 'object_prediction_by_cluster_loss', 'predictions_by_average_msg_loss', 'predictions_by_average_msg_accuracy', 'addition_compositionality_mean_message_loss', 'addition_compositionality_mean_message_cluster_accuracy', 'addition_compositionality_mean_prediction_loss', 'addition_compositionality_mean_prediction_accuracy', 'analogy_compositionality_net_message_mean_loss', 'analogy_compositionality_net_message_cluster_mean_accuracy', 'analogy_compositionality_net_prediction_mean_loss', 'analogy_compositionality_net_prediction_mean_accuracy', 'compositionality_net_message_mean_loss', 'compositionality_net_message_cluster_mean_accuracy', 'compositionality_net_prediction_mean_loss', 'compositionality_net_prediction_mean_accuracy', 'functions_from_messages', 'min_max_from_messages', 'dimension_from_messages', 'sanity_from_messages', 'object_by_context_from_messages', 'object_by_decoder_context_from_messages', 'context_from_messages', 'decoder_context_from_messages'])\n",
      "evaluation name:  addition_compositionality_mean_prediction_loss\n",
      "trial:  dict_keys(['training_losses', 'object_prediction_accuracy', 'detected_num_clusters', 'object_prediction_by_cluster_loss', 'predictions_by_average_msg_loss', 'predictions_by_average_msg_accuracy', 'addition_compositionality_mean_message_loss', 'addition_compositionality_mean_message_cluster_accuracy', 'addition_compositionality_mean_prediction_loss', 'addition_compositionality_mean_prediction_accuracy', 'analogy_compositionality_net_message_mean_loss', 'analogy_compositionality_net_message_cluster_mean_accuracy', 'analogy_compositionality_net_prediction_mean_loss', 'analogy_compositionality_net_prediction_mean_accuracy', 'compositionality_net_message_mean_loss', 'compositionality_net_message_cluster_mean_accuracy', 'compositionality_net_prediction_mean_loss', 'compositionality_net_prediction_mean_accuracy', 'functions_from_messages', 'min_max_from_messages', 'dimension_from_messages', 'sanity_from_messages', 'object_by_context_from_messages', 'object_by_decoder_context_from_messages', 'context_from_messages', 'decoder_context_from_messages'])\n",
      "evaluation name:  analogy_compositionality_net_prediction_mean_loss\n",
      "trial:  dict_keys(['training_losses', 'object_prediction_accuracy', 'detected_num_clusters', 'object_prediction_by_cluster_loss', 'predictions_by_average_msg_loss', 'predictions_by_average_msg_accuracy', 'addition_compositionality_mean_message_loss', 'addition_compositionality_mean_message_cluster_accuracy', 'addition_compositionality_mean_prediction_loss', 'addition_compositionality_mean_prediction_accuracy', 'analogy_compositionality_net_message_mean_loss', 'analogy_compositionality_net_message_cluster_mean_accuracy', 'analogy_compositionality_net_prediction_mean_loss', 'analogy_compositionality_net_prediction_mean_accuracy', 'compositionality_net_message_mean_loss', 'compositionality_net_message_cluster_mean_accuracy', 'compositionality_net_prediction_mean_loss', 'compositionality_net_prediction_mean_accuracy', 'functions_from_messages', 'min_max_from_messages', 'dimension_from_messages', 'sanity_from_messages', 'object_by_context_from_messages', 'object_by_decoder_context_from_messages', 'context_from_messages', 'decoder_context_from_messages'])\n",
      "\n",
      "\\begin{table}[hbt!]\n",
      "\\begin{tabular}{lcccc}\n",
      "\\toprule\n",
      "                       & \\multicolumn{2}{c}{\\textbf{Compositionality by Addition}} & \\multicolumn{2}{c}{\\textbf{Composition Network}} \\\\ \\midrule\n",
      "                       & \\textbf{Shared} & \\textbf{Non-shared} & \\textbf{Shared} & \\textbf{Non-shared} \\\\ \\midrule\n",
      "\\textbf{Strict} & \\\\ \n",
      "\\emph{10 objects} &  $0.11\\pm 0.00$  & XX0,1 &  $0.11\\pm 0.00$  & YY0,1      \\\\ % \\midrule\n",
      "\\textbf{Non-strict} & \\\\\n",
      "\\emph{5 objects} &\n",
      "\t$3.43\\pm 0.00$  & XX1,1 &  $3.46\\pm 0.00$  & YY1,1      \\\\\n",
      "%\\textbf{Non-strict} & \\\\\n",
      "\\emph{10 objects} &\n",
      "\tXX2,0  & XX2,1 &  YY2,0  & YY2,1     \\\\\n",
      "\\emph{15 objects} &\n",
      "\tXX3,0  & XX3,1 &  YY3,0  & YY3,1     \\\\ \\bottomrule\n",
      "\\end{tabular}\n",
      "\\caption{Lossess}\\label{tab:composition_mse_losses}\n",
      "\\end{table}\n",
      "    \n"
     ]
    }
   ],
   "source": [
    "def plot_table(evaluation_name, cells, caption=\"\", label=\"\", percents=False, message_size=2):\n",
    "\n",
    "    s=r\"\"\"\n",
    "\\begin{table}[]\n",
    "\\begin{tabular}{lcc}\n",
    "\\toprule\n",
    "                       & \\textbf{Shared} & \\textbf{Non-shared} \\\\ \\midrule\n",
    "\\textbf{Strict} & \\\\\n",
    "\\emph{10 objects} & \n",
    "\tXX0,0  & XX0,1      \\\\ % \\midrule\n",
    "\\textbf{Non-strict} & \\\\\n",
    "\\emph{5 objects} &\n",
    "\tXX1,0  & XX1,1      \\\\\n",
    "%\\textbf{Non-strict} & \\\\\n",
    "\\emph{10 objects} &\n",
    "\tXX2,0  & XX2,1      \\\\\n",
    "\\emph{15 objects} &\n",
    "\tXX3,0  & XX3,1      \\\\ \\bottomrule\n",
    "\\end{tabular}\n",
    "\\caption{CAPTION}\\label{tab:LABEL}\n",
    "\\end{table}\n",
    "    \"\"\"\n",
    "    \n",
    "    print(message_size)\n",
    "    for idxs, x in np.ndenumerate(cells):\n",
    "        mean, err = get_evaluation_mean_and_err(x, evaluation_name, message_size, percents)\n",
    "        filler = \"$\" + f\"{mean:.2f}\" \n",
    "        filler += r'\\%' if percents else ''\n",
    "        filler += r\"\\pm \" + f\"{err:.2f}\" + \"$\"\n",
    "        s = s.replace(F\"XX{idxs[0]},{idxs[1]}\", filler)\n",
    "        s = s.replace(\"LABEL\", label)\n",
    "        s = s.replace(\"CAPTION\", caption)\n",
    "\n",
    "    print(s)\n",
    "    \n",
    "    \n",
    "def plot_compositionality_table(evaluation_names, cells, caption=\"\", label=\"\", percents=False, message_size=2):\n",
    "\n",
    "    s=r\"\"\"\n",
    "\\begin{table}[hbt!]\n",
    "\\begin{tabular}{lcccc}\n",
    "\\toprule\n",
    "                       & \\multicolumn{2}{c}{\\textbf{Compositionality by Addition}} & \\multicolumn{2}{c}{\\textbf{Composition Network}} \\\\ \\midrule\n",
    "                       & \\textbf{Shared} & \\textbf{Non-shared} & \\textbf{Shared} & \\textbf{Non-shared} \\\\ \\midrule\n",
    "\\textbf{Strict} & \\\\ \n",
    "\\emph{10 objects} &  XX0,0  & XX0,1 &  YY0,0  & YY0,1      \\\\ % \\midrule\n",
    "\\textbf{Non-strict} & \\\\\n",
    "\\emph{5 objects} &\n",
    "\tXX1,0  & XX1,1 &  YY1,0  & YY1,1      \\\\\n",
    "%\\textbf{Non-strict} & \\\\\n",
    "\\emph{10 objects} &\n",
    "\tXX2,0  & XX2,1 &  YY2,0  & YY2,1     \\\\\n",
    "\\emph{15 objects} &\n",
    "\tXX3,0  & XX3,1 &  YY3,0  & YY3,1     \\\\ \\bottomrule\n",
    "\\end{tabular}\n",
    "\\caption{CAPTION}\\label{tab:LABEL}\n",
    "\\end{table}\n",
    "    \"\"\"\n",
    "    \n",
    "    \n",
    "    for idxs, x in np.ndenumerate(cells):\n",
    "        mean1, err1 = get_evaluation_mean_and_err(x, evaluation_names[0], message_size, percents)\n",
    "        mean2, err2 = get_evaluation_mean_and_err(x, evaluation_names[1], message_size, percents)\n",
    "        filler = \"$\" + f\"{mean1:.2f}\" \n",
    "        filler += r'\\%' if percents else ''\n",
    "        filler += r\"\\pm \" + f\"{err1:.2f}\" + \"$\"\n",
    "        \n",
    "        filler2 = \"$\" + f\"{mean2:.2f}\" \n",
    "        filler2 += r'\\%' if percents else ''\n",
    "        filler2 += r\"\\pm \" + f\"{err2:.2f}\" + \"$\"\n",
    "        \n",
    "        s = s.replace(F\"XX{idxs[0]},{idxs[1]}\", filler)\n",
    "        s = s.replace(F\"YY{idxs[0]},{idxs[1]}\", filler2)\n",
    "        \n",
    "        s = s.replace(\"LABEL\", label)\n",
    "        s = s.replace(\"CAPTION\", caption)\n",
    "\n",
    "    print(s)\n",
    "    \n",
    "# plot_compositionality_table([\"addition_compositionality_mean_prediction_accuracy\", \n",
    "#                              \"analogy_compositionality_net_prediction_mean_accuracy\"],\n",
    "#                            cells,\n",
    "#                            \"CAPTION\",\n",
    "#                            \"LABEL\", percents=True)\n",
    "\n",
    "# plot_compositionality_table([\"addition_compositionality_mean_prediction_accuracy\"],\n",
    "#                            cells,\n",
    "#                            \"CAPTION\",\n",
    "#                            \"LABEL\", percents=True)\n",
    "\n",
    "plot_compositionality_table([\"addition_compositionality_mean_prediction_loss\", \n",
    "                             \"analogy_compositionality_net_prediction_mean_loss\"],\n",
    "                           cells,\n",
    "                           \"Lossess\",\n",
    "                           \"composition_mse_losses\", percents=False)\n",
    "\n",
    "plot_compositionality_table([\"addition_compositionality_mean_prediction_loss\",\n",
    "                            \"analogy_compositionality_net_prediction_mean_loss\"],\n",
    "                           cells,\n",
    "                           \"Lossess\",\n",
    "                           \"composition_mse_losses\", percents=False)"
   ]
  },
  {
   "cell_type": "code",
   "execution_count": 34,
   "metadata": {
    "pycharm": {
     "is_executing": false
    }
   },
   "outputs": [],
   "source": [
    "def plot_table_bars(evaluation_name, cells, title, y_label, y_min, y_max=None, percents=False, message_size=2):\n",
    "    plt.style.use('seaborn-whitegrid')\n",
    "    num_ticks = 5\n",
    "    #TODO\n",
    "#     fig, ax = plt.subplots(cells.shape[0], cells.shape[1], figsize=(7,10))\n",
    "    fig, ax = plt.subplots(2,2, figsize=(7,10))\n",
    "    \n",
    "    print(\"cell shape: \", cells.shape)\n",
    "    global_max = float(\"-inf\")\n",
    "    \n",
    "    for row in range(cells.shape[0]):\n",
    "        for col in range(cells.shape[1]):\n",
    "            mean, err = get_evaluation_mean_and_err(cells[row,col], evaluation_name, message_size)\n",
    "            global_max = max(global_max, mean)\n",
    "            print(\"row: ,\", row)\n",
    "            print(\"col: ,\", col)\n",
    "            print(\"ax: \", ax)\n",
    "            ax_ = ax[row,col]\n",
    "            ax_.bar([0], mean, yerr=err, capsize=10, color=\"cornflowerblue\")\n",
    "            ax_.set_xticks([])\n",
    "            ax_.set_xticklabels([])\n",
    "#             ax_.set_ylabel(y_label)\n",
    "    \n",
    "    y_max = y_max or global_max\n",
    "    \n",
    "    y_interval = round(\n",
    "        y_max / num_ticks, int(np.abs(np.floor(np.log10(y_max / num_ticks))))\n",
    "    )\n",
    "    y_ticks = [round(x, 1) for x in np.arange(0.0, y_max + y_interval, y_interval)]\n",
    "    y_tick_labels = [str(x) for x in y_ticks]\n",
    "    if percents:\n",
    "        y_tick_labels = [str(int(x*100)) + \"%\" for x in y_ticks]\n",
    "    \n",
    "    for _, curr_ax in np.ndenumerate(ax):\n",
    "        curr_ax.set_yticks(y_ticks)\n",
    "        curr_ax.set_yticklabels(y_tick_labels)\n",
    "\n",
    "#     fig.suptitle(title, fontsize=18, y=0.98)\n",
    "    \n",
    "    fig.text(0.31,0.9, \"Shared context\", fontsize=16, horizontalalignment='center')\n",
    "    fig.text(0.72,0.9, \"Non-shared context\", fontsize=16, horizontalalignment='center')\n",
    "    \n",
    "    fig.text(-0.02,0.8, \"Strict\", fontsize=16, horizontalalignment='center')\n",
    "    fig.text(-0.02,0.6, \"Non-strict,\\n5 objects\", fontsize=16, horizontalalignment='center')\n",
    "    fig.text(-0.02,0.4, \"Non-strict,\\n10 objects\", fontsize=16, horizontalalignment='center')\n",
    "    fig.text(-0.02,0.2, \"Non-strict,\\n15 objects\", fontsize=16, horizontalalignment='center')\n",
    "    plt.show()"
   ]
  },
  {
   "cell_type": "markdown",
   "metadata": {},
   "source": [
    "### Compositionality accuracy drop"
   ]
  },
  {
   "cell_type": "code",
   "execution_count": 24,
   "metadata": {
    "pycharm": {
     "is_executing": false
    }
   },
   "outputs": [
    {
     "name": "stdout",
     "output_type": "stream",
     "text": [
      "Addition network\n",
      "evaluation name:  object_prediction_accuracy\n",
      "trial:  dict_keys(['training_losses', 'object_prediction_accuracy', 'detected_num_clusters', 'object_prediction_by_cluster_loss', 'predictions_by_average_msg_loss', 'predictions_by_average_msg_accuracy', 'addition_compositionality_mean_message_loss', 'addition_compositionality_mean_message_cluster_accuracy', 'addition_compositionality_mean_prediction_loss', 'addition_compositionality_mean_prediction_accuracy', 'analogy_compositionality_net_message_mean_loss', 'analogy_compositionality_net_message_cluster_mean_accuracy', 'analogy_compositionality_net_prediction_mean_loss', 'analogy_compositionality_net_prediction_mean_accuracy', 'compositionality_net_message_mean_loss', 'compositionality_net_message_cluster_mean_accuracy', 'compositionality_net_prediction_mean_loss', 'compositionality_net_prediction_mean_accuracy', 'functions_from_messages', 'min_max_from_messages', 'dimension_from_messages', 'sanity_from_messages', 'object_by_context_from_messages', 'object_by_decoder_context_from_messages', 'context_from_messages', 'decoder_context_from_messages'])\n",
      "evaluation name:  addition_compositionality_mean_prediction_accuracy\n",
      "trial:  dict_keys(['training_losses', 'object_prediction_accuracy', 'detected_num_clusters', 'object_prediction_by_cluster_loss', 'predictions_by_average_msg_loss', 'predictions_by_average_msg_accuracy', 'addition_compositionality_mean_message_loss', 'addition_compositionality_mean_message_cluster_accuracy', 'addition_compositionality_mean_prediction_loss', 'addition_compositionality_mean_prediction_accuracy', 'analogy_compositionality_net_message_mean_loss', 'analogy_compositionality_net_message_cluster_mean_accuracy', 'analogy_compositionality_net_prediction_mean_loss', 'analogy_compositionality_net_prediction_mean_accuracy', 'compositionality_net_message_mean_loss', 'compositionality_net_message_cluster_mean_accuracy', 'compositionality_net_prediction_mean_loss', 'compositionality_net_prediction_mean_accuracy', 'functions_from_messages', 'min_max_from_messages', 'dimension_from_messages', 'sanity_from_messages', 'object_by_context_from_messages', 'object_by_decoder_context_from_messages', 'context_from_messages', 'decoder_context_from_messages'])\n",
      "evaluation name:  object_prediction_accuracy\n",
      "trial:  dict_keys(['training_losses', 'object_prediction_accuracy', 'detected_num_clusters', 'object_prediction_by_cluster_loss', 'predictions_by_average_msg_loss', 'predictions_by_average_msg_accuracy', 'addition_compositionality_mean_message_loss', 'addition_compositionality_mean_message_cluster_accuracy', 'addition_compositionality_mean_prediction_loss', 'addition_compositionality_mean_prediction_accuracy', 'analogy_compositionality_net_message_mean_loss', 'analogy_compositionality_net_message_cluster_mean_accuracy', 'analogy_compositionality_net_prediction_mean_loss', 'analogy_compositionality_net_prediction_mean_accuracy', 'compositionality_net_message_mean_loss', 'compositionality_net_message_cluster_mean_accuracy', 'compositionality_net_prediction_mean_loss', 'compositionality_net_prediction_mean_accuracy', 'functions_from_messages', 'min_max_from_messages', 'dimension_from_messages', 'sanity_from_messages', 'object_by_context_from_messages', 'object_by_decoder_context_from_messages', 'context_from_messages', 'decoder_context_from_messages'])\n",
      "evaluation name:  addition_compositionality_mean_prediction_accuracy\n",
      "trial:  dict_keys(['training_losses', 'object_prediction_accuracy', 'detected_num_clusters', 'object_prediction_by_cluster_loss', 'predictions_by_average_msg_loss', 'predictions_by_average_msg_accuracy', 'addition_compositionality_mean_message_loss', 'addition_compositionality_mean_message_cluster_accuracy', 'addition_compositionality_mean_prediction_loss', 'addition_compositionality_mean_prediction_accuracy', 'analogy_compositionality_net_message_mean_loss', 'analogy_compositionality_net_message_cluster_mean_accuracy', 'analogy_compositionality_net_prediction_mean_loss', 'analogy_compositionality_net_prediction_mean_accuracy', 'compositionality_net_message_mean_loss', 'compositionality_net_message_cluster_mean_accuracy', 'compositionality_net_prediction_mean_loss', 'compositionality_net_prediction_mean_accuracy', 'functions_from_messages', 'min_max_from_messages', 'dimension_from_messages', 'sanity_from_messages', 'object_by_context_from_messages', 'object_by_decoder_context_from_messages', 'context_from_messages', 'decoder_context_from_messages'])\n",
      "\t\t [[0.031, 0.03471428571428572], [0.028, 0.032285714285714286]]\n",
      "extremity_game_acl_4__o_15__s_1__n_5__m_2__l_mse:\n",
      "\t -0.0037142857142857186 %\n",
      "\n",
      "extremity_game_acl_4__o_15__s_1__n_5__m_2__l_cross_entropy:\n",
      "\t -0.004285714285714285 %\n",
      "\n",
      "Min: -0.004285714285714285\n",
      "Compositionality network\n",
      "evaluation name:  object_prediction_accuracy\n",
      "trial:  dict_keys(['training_losses', 'object_prediction_accuracy', 'detected_num_clusters', 'object_prediction_by_cluster_loss', 'predictions_by_average_msg_loss', 'predictions_by_average_msg_accuracy', 'addition_compositionality_mean_message_loss', 'addition_compositionality_mean_message_cluster_accuracy', 'addition_compositionality_mean_prediction_loss', 'addition_compositionality_mean_prediction_accuracy', 'analogy_compositionality_net_message_mean_loss', 'analogy_compositionality_net_message_cluster_mean_accuracy', 'analogy_compositionality_net_prediction_mean_loss', 'analogy_compositionality_net_prediction_mean_accuracy', 'compositionality_net_message_mean_loss', 'compositionality_net_message_cluster_mean_accuracy', 'compositionality_net_prediction_mean_loss', 'compositionality_net_prediction_mean_accuracy', 'functions_from_messages', 'min_max_from_messages', 'dimension_from_messages', 'sanity_from_messages', 'object_by_context_from_messages', 'object_by_decoder_context_from_messages', 'context_from_messages', 'decoder_context_from_messages'])\n",
      "evaluation name:  compositionality_net_prediction_mean_accuracy\n",
      "trial:  dict_keys(['training_losses', 'object_prediction_accuracy', 'detected_num_clusters', 'object_prediction_by_cluster_loss', 'predictions_by_average_msg_loss', 'predictions_by_average_msg_accuracy', 'addition_compositionality_mean_message_loss', 'addition_compositionality_mean_message_cluster_accuracy', 'addition_compositionality_mean_prediction_loss', 'addition_compositionality_mean_prediction_accuracy', 'analogy_compositionality_net_message_mean_loss', 'analogy_compositionality_net_message_cluster_mean_accuracy', 'analogy_compositionality_net_prediction_mean_loss', 'analogy_compositionality_net_prediction_mean_accuracy', 'compositionality_net_message_mean_loss', 'compositionality_net_message_cluster_mean_accuracy', 'compositionality_net_prediction_mean_loss', 'compositionality_net_prediction_mean_accuracy', 'functions_from_messages', 'min_max_from_messages', 'dimension_from_messages', 'sanity_from_messages', 'object_by_context_from_messages', 'object_by_decoder_context_from_messages', 'context_from_messages', 'decoder_context_from_messages'])\n",
      "evaluation name:  object_prediction_accuracy\n",
      "trial:  dict_keys(['training_losses', 'object_prediction_accuracy', 'detected_num_clusters', 'object_prediction_by_cluster_loss', 'predictions_by_average_msg_loss', 'predictions_by_average_msg_accuracy', 'addition_compositionality_mean_message_loss', 'addition_compositionality_mean_message_cluster_accuracy', 'addition_compositionality_mean_prediction_loss', 'addition_compositionality_mean_prediction_accuracy', 'analogy_compositionality_net_message_mean_loss', 'analogy_compositionality_net_message_cluster_mean_accuracy', 'analogy_compositionality_net_prediction_mean_loss', 'analogy_compositionality_net_prediction_mean_accuracy', 'compositionality_net_message_mean_loss', 'compositionality_net_message_cluster_mean_accuracy', 'compositionality_net_prediction_mean_loss', 'compositionality_net_prediction_mean_accuracy', 'functions_from_messages', 'min_max_from_messages', 'dimension_from_messages', 'sanity_from_messages', 'object_by_context_from_messages', 'object_by_decoder_context_from_messages', 'context_from_messages', 'decoder_context_from_messages'])\n",
      "evaluation name:  compositionality_net_prediction_mean_accuracy\n",
      "trial:  dict_keys(['training_losses', 'object_prediction_accuracy', 'detected_num_clusters', 'object_prediction_by_cluster_loss', 'predictions_by_average_msg_loss', 'predictions_by_average_msg_accuracy', 'addition_compositionality_mean_message_loss', 'addition_compositionality_mean_message_cluster_accuracy', 'addition_compositionality_mean_prediction_loss', 'addition_compositionality_mean_prediction_accuracy', 'analogy_compositionality_net_message_mean_loss', 'analogy_compositionality_net_message_cluster_mean_accuracy', 'analogy_compositionality_net_prediction_mean_loss', 'analogy_compositionality_net_prediction_mean_accuracy', 'compositionality_net_message_mean_loss', 'compositionality_net_message_cluster_mean_accuracy', 'compositionality_net_prediction_mean_loss', 'compositionality_net_prediction_mean_accuracy', 'functions_from_messages', 'min_max_from_messages', 'dimension_from_messages', 'sanity_from_messages', 'object_by_context_from_messages', 'object_by_decoder_context_from_messages', 'context_from_messages', 'decoder_context_from_messages'])\n",
      "\t\t [[0.031, 0.032], [0.028, 0.038000000000000006]]\n",
      "extremity_game_acl_4__o_15__s_1__n_5__m_2__l_mse:\n",
      "\t -0.0010000000000000009 %\n",
      "\n",
      "extremity_game_acl_4__o_15__s_1__n_5__m_2__l_cross_entropy:\n",
      "\t -0.010000000000000005 %\n",
      "\n",
      "Min: -0.010000000000000005\n"
     ]
    }
   ],
   "source": [
    "def get_performance_drop(evaluation_names):\n",
    "    eval_means = [[get_evaluation_mean_and_err(str(simulation_name), x, message_size=2)[0] for x in evaluation_names] \n",
    "                  for simulation_name in np.nditer(cells)]\n",
    "    print(\"\\t\\t\", eval_means)\n",
    "\n",
    "    decreases = [(x[0]-x[1]) for x in eval_means]\n",
    "\n",
    "    for sim, decrease in zip(np.nditer(cells), decreases):\n",
    "        print(f\"{sim}:\\n\\t\", decrease, \"%\\n\")\n",
    "    print(\"Min:\", min(decreases))\n",
    "\n",
    "print(f\"Addition network\")\n",
    "get_performance_drop([\"object_prediction_accuracy\", \"addition_compositionality_mean_prediction_accuracy\"])\n",
    "\n",
    "print(f\"Compositionality network\")\n",
    "get_performance_drop([\"object_prediction_accuracy\", \"compositionality_net_prediction_mean_accuracy\"])"
   ]
  },
  {
   "cell_type": "markdown",
   "metadata": {},
   "source": [
    "### Compositionality Appendix Tables"
   ]
  },
  {
   "cell_type": "code",
   "execution_count": 25,
   "metadata": {
    "pycharm": {
     "is_executing": false
    }
   },
   "outputs": [
    {
     "name": "stdout",
     "output_type": "stream",
     "text": [
      "2\n",
      "evaluation name:  addition_compositionality_mean_prediction_accuracy\n",
      "trial:  dict_keys(['training_losses', 'object_prediction_accuracy', 'detected_num_clusters', 'object_prediction_by_cluster_loss', 'predictions_by_average_msg_loss', 'predictions_by_average_msg_accuracy', 'addition_compositionality_mean_message_loss', 'addition_compositionality_mean_message_cluster_accuracy', 'addition_compositionality_mean_prediction_loss', 'addition_compositionality_mean_prediction_accuracy', 'analogy_compositionality_net_message_mean_loss', 'analogy_compositionality_net_message_cluster_mean_accuracy', 'analogy_compositionality_net_prediction_mean_loss', 'analogy_compositionality_net_prediction_mean_accuracy', 'compositionality_net_message_mean_loss', 'compositionality_net_message_cluster_mean_accuracy', 'compositionality_net_prediction_mean_loss', 'compositionality_net_prediction_mean_accuracy', 'functions_from_messages', 'min_max_from_messages', 'dimension_from_messages', 'sanity_from_messages', 'object_by_context_from_messages', 'object_by_decoder_context_from_messages', 'context_from_messages', 'decoder_context_from_messages'])\n",
      "evaluation name:  addition_compositionality_mean_prediction_accuracy\n",
      "trial:  dict_keys(['training_losses', 'object_prediction_accuracy', 'detected_num_clusters', 'object_prediction_by_cluster_loss', 'predictions_by_average_msg_loss', 'predictions_by_average_msg_accuracy', 'addition_compositionality_mean_message_loss', 'addition_compositionality_mean_message_cluster_accuracy', 'addition_compositionality_mean_prediction_loss', 'addition_compositionality_mean_prediction_accuracy', 'analogy_compositionality_net_message_mean_loss', 'analogy_compositionality_net_message_cluster_mean_accuracy', 'analogy_compositionality_net_prediction_mean_loss', 'analogy_compositionality_net_prediction_mean_accuracy', 'compositionality_net_message_mean_loss', 'compositionality_net_message_cluster_mean_accuracy', 'compositionality_net_prediction_mean_loss', 'compositionality_net_prediction_mean_accuracy', 'functions_from_messages', 'min_max_from_messages', 'dimension_from_messages', 'sanity_from_messages', 'object_by_context_from_messages', 'object_by_decoder_context_from_messages', 'context_from_messages', 'decoder_context_from_messages'])\n",
      "\n",
      "\\begin{table}[]\n",
      "\\begin{tabular}{lcc}\n",
      "\\toprule\n",
      "                       & \\textbf{Shared} & \\textbf{Non-shared} \\\\ \\midrule\n",
      "\\textbf{Strict} & \\\\\n",
      "\\emph{10 objects} & \n",
      "\t$3.47\\%\\pm 0.00$  & XX0,1      \\\\ % \\midrule\n",
      "\\textbf{Non-strict} & \\\\\n",
      "\\emph{5 objects} &\n",
      "\t$3.23\\%\\pm 0.00$  & XX1,1      \\\\\n",
      "%\\textbf{Non-strict} & \\\\\n",
      "\\emph{10 objects} &\n",
      "\tXX2,0  & XX2,1      \\\\\n",
      "\\emph{15 objects} &\n",
      "\tXX3,0  & XX3,1      \\\\ \\bottomrule\n",
      "\\end{tabular}\n",
      "\\caption{addition_compositionality_mean_prediction_accuracy }\\label{tab:addition_compositionality_accuracy}\n",
      "\\end{table}\n",
      "    \n"
     ]
    }
   ],
   "source": [
    "plot_table(\"addition_compositionality_mean_prediction_accuracy\", cells, caption=\"addition_compositionality_mean_prediction_accuracy \", label=\"addition_compositionality_accuracy\", percents=True)"
   ]
  },
  {
   "cell_type": "code",
   "execution_count": 26,
   "metadata": {
    "pycharm": {
     "is_executing": false
    }
   },
   "outputs": [
    {
     "name": "stdout",
     "output_type": "stream",
     "text": [
      "2\n",
      "evaluation name:  analogy_compositionality_net_prediction_mean_accuracy\n",
      "trial:  dict_keys(['training_losses', 'object_prediction_accuracy', 'detected_num_clusters', 'object_prediction_by_cluster_loss', 'predictions_by_average_msg_loss', 'predictions_by_average_msg_accuracy', 'addition_compositionality_mean_message_loss', 'addition_compositionality_mean_message_cluster_accuracy', 'addition_compositionality_mean_prediction_loss', 'addition_compositionality_mean_prediction_accuracy', 'analogy_compositionality_net_message_mean_loss', 'analogy_compositionality_net_message_cluster_mean_accuracy', 'analogy_compositionality_net_prediction_mean_loss', 'analogy_compositionality_net_prediction_mean_accuracy', 'compositionality_net_message_mean_loss', 'compositionality_net_message_cluster_mean_accuracy', 'compositionality_net_prediction_mean_loss', 'compositionality_net_prediction_mean_accuracy', 'functions_from_messages', 'min_max_from_messages', 'dimension_from_messages', 'sanity_from_messages', 'object_by_context_from_messages', 'object_by_decoder_context_from_messages', 'context_from_messages', 'decoder_context_from_messages'])\n",
      "evaluation name:  analogy_compositionality_net_prediction_mean_accuracy\n",
      "trial:  dict_keys(['training_losses', 'object_prediction_accuracy', 'detected_num_clusters', 'object_prediction_by_cluster_loss', 'predictions_by_average_msg_loss', 'predictions_by_average_msg_accuracy', 'addition_compositionality_mean_message_loss', 'addition_compositionality_mean_message_cluster_accuracy', 'addition_compositionality_mean_prediction_loss', 'addition_compositionality_mean_prediction_accuracy', 'analogy_compositionality_net_message_mean_loss', 'analogy_compositionality_net_message_cluster_mean_accuracy', 'analogy_compositionality_net_prediction_mean_loss', 'analogy_compositionality_net_prediction_mean_accuracy', 'compositionality_net_message_mean_loss', 'compositionality_net_message_cluster_mean_accuracy', 'compositionality_net_prediction_mean_loss', 'compositionality_net_prediction_mean_accuracy', 'functions_from_messages', 'min_max_from_messages', 'dimension_from_messages', 'sanity_from_messages', 'object_by_context_from_messages', 'object_by_decoder_context_from_messages', 'context_from_messages', 'decoder_context_from_messages'])\n",
      "\n",
      "\\begin{table}[]\n",
      "\\begin{tabular}{lcc}\n",
      "\\toprule\n",
      "                       & \\textbf{Shared} & \\textbf{Non-shared} \\\\ \\midrule\n",
      "\\textbf{Strict} & \\\\\n",
      "\\emph{10 objects} & \n",
      "\t$3.20\\%\\pm 0.00$  & XX0,1      \\\\ % \\midrule\n",
      "\\textbf{Non-strict} & \\\\\n",
      "\\emph{5 objects} &\n",
      "\t$3.17\\%\\pm 0.00$  & XX1,1      \\\\\n",
      "%\\textbf{Non-strict} & \\\\\n",
      "\\emph{10 objects} &\n",
      "\tXX2,0  & XX2,1      \\\\\n",
      "\\emph{15 objects} &\n",
      "\tXX3,0  & XX3,1      \\\\ \\bottomrule\n",
      "\\end{tabular}\n",
      "\\caption{addition_compositionality_mean_prediction_accuracy }\\label{tab:addition_compositionality_accuracy}\n",
      "\\end{table}\n",
      "    \n"
     ]
    }
   ],
   "source": [
    "plot_table(\"analogy_compositionality_net_prediction_mean_accuracy\", cells, caption=\"addition_compositionality_mean_prediction_accuracy \", label=\"addition_compositionality_accuracy\", percents=True)"
   ]
  },
  {
   "cell_type": "markdown",
   "metadata": {},
   "source": [
    "### Object Prediciton Accuracy"
   ]
  },
  {
   "cell_type": "code",
   "execution_count": 35,
   "metadata": {
    "pycharm": {
     "is_executing": false
    }
   },
   "outputs": [
    {
     "name": "stdout",
     "output_type": "stream",
     "text": [
      "cell shape:  (2, 1)\n",
      "evaluation name:  object_prediction_accuracy\n",
      "trial:  dict_keys(['training_losses', 'object_prediction_accuracy', 'detected_num_clusters', 'object_prediction_by_cluster_loss', 'predictions_by_average_msg_loss', 'predictions_by_average_msg_accuracy', 'addition_compositionality_mean_message_loss', 'addition_compositionality_mean_message_cluster_accuracy', 'addition_compositionality_mean_prediction_loss', 'addition_compositionality_mean_prediction_accuracy', 'analogy_compositionality_net_message_mean_loss', 'analogy_compositionality_net_message_cluster_mean_accuracy', 'analogy_compositionality_net_prediction_mean_loss', 'analogy_compositionality_net_prediction_mean_accuracy', 'compositionality_net_message_mean_loss', 'compositionality_net_message_cluster_mean_accuracy', 'compositionality_net_prediction_mean_loss', 'compositionality_net_prediction_mean_accuracy', 'functions_from_messages', 'min_max_from_messages', 'dimension_from_messages', 'sanity_from_messages', 'object_by_context_from_messages', 'object_by_decoder_context_from_messages', 'context_from_messages', 'decoder_context_from_messages'])\n",
      "row: , 0\n",
      "col: , 0\n",
      "ax:  [[<matplotlib.axes._subplots.AxesSubplot object at 0x12f872e80>\n",
      "  <matplotlib.axes._subplots.AxesSubplot object at 0x12f7a30a0>]\n",
      " [<matplotlib.axes._subplots.AxesSubplot object at 0x12fa63cd0>\n",
      "  <matplotlib.axes._subplots.AxesSubplot object at 0x12f9be550>]]\n",
      "evaluation name:  object_prediction_accuracy\n",
      "trial:  dict_keys(['training_losses', 'object_prediction_accuracy', 'detected_num_clusters', 'object_prediction_by_cluster_loss', 'predictions_by_average_msg_loss', 'predictions_by_average_msg_accuracy', 'addition_compositionality_mean_message_loss', 'addition_compositionality_mean_message_cluster_accuracy', 'addition_compositionality_mean_prediction_loss', 'addition_compositionality_mean_prediction_accuracy', 'analogy_compositionality_net_message_mean_loss', 'analogy_compositionality_net_message_cluster_mean_accuracy', 'analogy_compositionality_net_prediction_mean_loss', 'analogy_compositionality_net_prediction_mean_accuracy', 'compositionality_net_message_mean_loss', 'compositionality_net_message_cluster_mean_accuracy', 'compositionality_net_prediction_mean_loss', 'compositionality_net_prediction_mean_accuracy', 'functions_from_messages', 'min_max_from_messages', 'dimension_from_messages', 'sanity_from_messages', 'object_by_context_from_messages', 'object_by_decoder_context_from_messages', 'context_from_messages', 'decoder_context_from_messages'])\n",
      "row: , 1\n",
      "col: , 0\n",
      "ax:  [[<matplotlib.axes._subplots.AxesSubplot object at 0x12f872e80>\n",
      "  <matplotlib.axes._subplots.AxesSubplot object at 0x12f7a30a0>]\n",
      " [<matplotlib.axes._subplots.AxesSubplot object at 0x12fa63cd0>\n",
      "  <matplotlib.axes._subplots.AxesSubplot object at 0x12f9be550>]]\n"
     ]
    },
    {
     "name": "stderr",
     "output_type": "stream",
     "text": [
      "/Users/murphy/anaconda3/envs/signaling_auto_encoder/lib/python3.8/site-packages/dataclasses_json/core.py:142: RuntimeWarning: `NoneType` object value of non-optional type target_function detected when decoding Simulation.\n",
      "  warnings.warn(f\"`NoneType` object {warning}.\", RuntimeWarning)\n",
      "/Users/murphy/anaconda3/envs/signaling_auto_encoder/lib/python3.8/site-packages/dataclasses_json/core.py:142: RuntimeWarning: `NoneType` object value of non-optional type context_generator detected when decoding Simulation.\n",
      "  warnings.warn(f\"`NoneType` object {warning}.\", RuntimeWarning)\n"
     ]
    },
    {
     "data": {
      "image/png": "[encoded data removed]",
      "text/plain": [
       "<Figure size 504x720 with 4 Axes>"
      ]
     },
     "metadata": {},
     "output_type": "display_data"
    }
   ],
   "source": [
    "plot_table_bars(\"object_prediction_accuracy\", cells, \"Object Prediction Accuracy\", \"Accuracy\", percents=True, y_min=0, y_max=1.0)"
   ]
  },
  {
   "cell_type": "code",
   "execution_count": null,
   "metadata": {
    "pycharm": {
     "is_executing": false
    }
   },
   "outputs": [],
   "source": [
    "plot_table(\"clusterization_f_score\", cells, caption=\"Message clusterization F1 scores. \", label=\"f1_scores\", percents=False)"
   ]
  },
  {
   "cell_type": "code",
   "execution_count": null,
   "metadata": {
    "pycharm": {
     "is_executing": false
    }
   },
   "outputs": [],
   "source": [
    "plot_table(\"predictions_by_average_msg_accuracy\", cells, caption=\"Object prediction accuracy using average message from each function cluster. \", label=\"average_message_accuracy\", percents=True)"
   ]
  },
  {
   "cell_type": "code",
   "execution_count": null,
   "metadata": {
    "collapsed": true,
    "pycharm": {
     "is_executing": false
    }
   },
   "outputs": [],
   "source": [
    "plot_table_bars(\"clusterization_f_score\", cells, \"Object Prediction Accuracy\", \"Accuracy\", percents=False, y_min=0, y_max=1.0)"
   ]
  },
  {
   "cell_type": "markdown",
   "metadata": {},
   "source": [
    "## General prediction accuracy\n",
    "Test whether predicted object is closest to target object.\n",
    "\n",
    "Method: Take network's predicted object, find closest object in input context C (using MSE), check if closest object is the target object."
   ]
  },
  {
   "cell_type": "code",
   "execution_count": null,
   "metadata": {
    "pycharm": {
     "is_executing": false
    }
   },
   "outputs": [],
   "source": [
    "simulation_sets = {\"Strict context\": strict_context_simulations, \n",
    "                   \"Non-strict\": non_strict_context_simulations, \n",
    "                   # \"F(c) input\": nature_includes_fc_simulations,\n",
    "                  # \"Untrained networks\": untrained_simulations\n",
    "                   }"
   ]
  },
  {
   "cell_type": "code",
   "execution_count": null,
   "metadata": {
    "pycharm": {
     "is_executing": false
    }
   },
   "outputs": [],
   "source": [
    "# simulation_sets = {\"extremity_game_acl_4__o_15__s_0__n_5__m_128__l_mse\"}\n",
    "plot_bars_for_evaluation(\"object_prediction_accuracy\", simulation_sets, \"Prediction accuracy of objects\", \"Accuracy\")"
   ]
  },
  {
   "cell_type": "markdown",
   "metadata": {},
   "source": [
    "## Predictions from M\n",
    "\n",
    "Method: a simple neural network (hidden layer size 32 * ReLU) is trained to predict the various game elements from the messages M.\n",
    "For one-hot objects (i.e. F) an accuracy measure can be used. For the other elements, which are continuous, MSE is used. "
   ]
  },
  {
   "cell_type": "code",
   "execution_count": null,
   "metadata": {
    "pycharm": {
     "is_executing": false
    },
    "scrolled": false
   },
   "outputs": [],
   "source": [
    "plot_bars_for_evaluation(\"functions_from_messages\", simulation_sets, \"M -> F\", \"Accuracy\")"
   ]
  },
  {
   "cell_type": "code",
   "execution_count": null,
   "metadata": {
    "pycharm": {
     "is_executing": false
    }
   },
   "outputs": [],
   "source": [
    "plot_bars_for_evaluation(\"context_from_messages\", simulation_sets, \"M -> C\", \"MSE\")"
   ]
  },
  {
   "cell_type": "code",
   "execution_count": null,
   "metadata": {
    "pycharm": {
     "is_executing": false
    }
   },
   "outputs": [],
   "source": [
    "plot_bars_for_evaluation(\"decoder_context_from_messages\", simulation_sets, \"M -> C'\", \"MSE\")"
   ]
  },
  {
   "cell_type": "code",
   "execution_count": null,
   "metadata": {
    "pycharm": {
     "is_executing": false
    }
   },
   "outputs": [],
   "source": [
    "plot_bars_for_evaluation(\"object_by_context_from_messages\", simulation_sets, \"M -> f(c)\", \"MSE\")"
   ]
  },
  {
   "cell_type": "code",
   "execution_count": null,
   "metadata": {
    "pycharm": {
     "is_executing": false
    }
   },
   "outputs": [],
   "source": [
    "plot_bars_for_evaluation(\"object_by_decoder_context_from_messages\", simulation_sets, \"M -> f(c')\", \"MSE\")"
   ]
  },
  {
   "cell_type": "code",
   "execution_count": null,
   "metadata": {
    "pycharm": {
     "is_executing": false
    }
   },
   "outputs": [],
   "source": [
    "plot_bars_for_evaluation(\"min_max_from_messages\", simulation_sets, \"M -> min/max\", \"Accuracy\")"
   ]
  },
  {
   "cell_type": "code",
   "execution_count": null,
   "metadata": {
    "pycharm": {
     "is_executing": false
    }
   },
   "outputs": [],
   "source": [
    "plot_bars_for_evaluation(\"dimension_from_messages\", simulation_sets, \"M -> Param(F)\", \"Accuracy\")"
   ]
  },
  {
   "cell_type": "code",
   "execution_count": null,
   "metadata": {
    "pycharm": {
     "is_executing": false
    }
   },
   "outputs": [],
   "source": [
    "plot_bars_for_evaluation(\"sanity_from_messages\", simulation_sets, \"Sanity Check\", \"Accuracy\")"
   ]
  },
  {
   "cell_type": "markdown",
   "metadata": {},
   "source": [
    "## Training losses"
   ]
  },
  {
   "cell_type": "markdown",
   "metadata": {},
   "source": [
    "### Shared vs. Non-shared"
   ]
  },
  {
   "cell_type": "code",
   "execution_count": null,
   "metadata": {
    "pycharm": {
     "is_executing": false
    }
   },
   "outputs": [],
   "source": [
    "simulation_display_name_to_file_name = {\n",
    "    \"Shared context\": \"acl_ready/extremity_game_acl_o_5__object_size_5__strict_context_1__shared_context_1__nature_includes_function_1__num_objects_10__mini_batch_size_128__num_batches_5000\",\n",
    "    \"Non-shared context\": \"acl_ready/extremity_game_acl_o_5__object_size_5__strict_context_1__shared_context_0__nature_includes_function_1__num_objects_10__mini_batch_size_128__num_batches_5000\",\n",
    "} \n",
    "\n",
    "plots.plot_simulation_training_loss(simulation_display_name_to_file_name, max_epochs=5000, epoch_interval=100, label_interval=10)"
   ]
  },
  {
   "cell_type": "markdown",
   "metadata": {},
   "source": [
    "### First 50 epochs"
   ]
  },
  {
   "cell_type": "code",
   "execution_count": null,
   "metadata": {
    "pycharm": {
     "is_executing": false
    }
   },
   "outputs": [],
   "source": [
    "plots.plot_simulation_training_loss(simulation_display_name_to_file_name, max_epochs=50, epoch_interval=1, label_interval=10)"
   ]
  },
  {
   "cell_type": "markdown",
   "metadata": {},
   "source": [
    "### Strict context, O=5"
   ]
  },
  {
   "cell_type": "code",
   "execution_count": null,
   "metadata": {
    "pycharm": {
     "is_executing": false
    }
   },
   "outputs": [],
   "source": [
    "simulation_display_name_to_file_name = {\n",
    "    \"Strict context\": \"acl_ready/extremity_game_acl_o_5__object_size_5__strict_context_1__shared_context_1__nature_includes_function_1__num_objects_10__mini_batch_size_128__num_batches_5000\",\n",
    "} \n",
    "\n",
    "plots.plot_simulation_training_loss(simulation_display_name_to_file_name, max_epochs=5000, epoch_interval=100, label_interval=10)"
   ]
  },
  {
   "cell_type": "markdown",
   "metadata": {},
   "source": [
    "### Non-strict, O=5, C=(15, 5)"
   ]
  },
  {
   "cell_type": "code",
   "execution_count": null,
   "metadata": {
    "pycharm": {
     "is_executing": false
    }
   },
   "outputs": [],
   "source": [
    "simulation_display_name_to_file_name = {\n",
    "    \"Non-strict context\\nO=5, C=(15,5)\": \"acl_ready/extremity_game_acl_o_5__object_size_5__strict_context_0__shared_context_1__nature_includes_function_1__num_objects_15__mini_batch_size_128__num_batches_5000\",\n",
    "} \n",
    "\n",
    "plots.plot_simulation_training_loss(simulation_display_name_to_file_name, max_epochs=5000, epoch_interval=100, label_interval=10)"
   ]
  },
  {
   "cell_type": "markdown",
   "metadata": {},
   "source": [
    "### Non-strict, O=5, C=(10,5)"
   ]
  },
  {
   "cell_type": "code",
   "execution_count": null,
   "metadata": {
    "pycharm": {
     "is_executing": false
    }
   },
   "outputs": [],
   "source": [
    "simulation_display_name_to_file_name = {\n",
    "    \"Non-strict context\": \"acl_ready/extremity_game_acl_o_5__object_size_5__strict_context_0__shared_context_1__nature_includes_function_1__num_objects_10__mini_batch_size_128__num_batches_5000\",\n",
    "} \n",
    "plots.plot_simulation_training_loss(simulation_display_name_to_file_name, max_epochs=5000, epoch_interval=100, label_interval=10)"
   ]
  },
  {
   "cell_type": "markdown",
   "metadata": {},
   "source": [
    "### Non-strict, O=5, C=(5,5)"
   ]
  },
  {
   "cell_type": "code",
   "execution_count": null,
   "metadata": {
    "pycharm": {
     "is_executing": false
    }
   },
   "outputs": [],
   "source": [
    "simulation_display_name_to_file_name = {\n",
    "    \"Non-strict context\\nO=5, C=(5,5)\": \"acl_ready/extremity_game_acl_o_5__object_size_5__strict_context_0__shared_context_1__nature_includes_function_1__num_objects_5__mini_batch_size_128__num_batches_5000\",\n",
    "} \n",
    "\n",
    "plots.plot_simulation_training_loss(simulation_display_name_to_file_name, max_epochs=5000, epoch_interval=100, label_interval=10)"
   ]
  },
  {
   "cell_type": "markdown",
   "metadata": {},
   "source": [
    "## Clustering"
   ]
  },
  {
   "cell_type": "markdown",
   "metadata": {},
   "source": [
    "### Cluster-function F1-score"
   ]
  },
  {
   "cell_type": "code",
   "execution_count": null,
   "metadata": {
    "pycharm": {
     "is_executing": false
    },
    "scrolled": false
   },
   "outputs": [],
   "source": [
    "sets = {\"Strict context\": strict_context_simulations, \n",
    "        \"Non-strict\": non_strict_context_simulations, \n",
    "        \"F(c) input\": nature_includes_fc_simulations,\n",
    "        \"Untrained networks\": untrained_simulations}\n",
    "plot_bars_for_evaluation(\"clusterization_f_score\", sets, \"Clusterization F1-score\", \"F1\")"
   ]
  },
  {
   "cell_type": "markdown",
   "metadata": {},
   "source": [
    "### Prediction by cluster average message"
   ]
  },
  {
   "cell_type": "code",
   "execution_count": null,
   "metadata": {
    "pycharm": {
     "is_executing": false
    },
    "scrolled": false
   },
   "outputs": [],
   "source": [
    "plot_bars_for_evaluation(\"predictions_by_average_msg_accuracy\", \n",
    "                         sets, \n",
    "                         \"Prediction of context objects from cluster average message\", \n",
    "                         \"Accuracy\", \n",
    "                         width=12)"
   ]
  },
  {
   "cell_type": "markdown",
   "metadata": {},
   "source": [
    "## Compositionality Tests"
   ]
  },
  {
   "cell_type": "code",
   "execution_count": null,
   "metadata": {
    "pycharm": {
     "is_executing": false
    }
   },
   "outputs": [],
   "source": [
    "compositionality_test_to_evals = {\n",
    "    \"Compositionality as addition\": {\n",
    "        \"loss_evals\": {\n",
    "            \"Perception loss (O)\": \"addition_compositionality_mean_prediction_loss\",\n",
    "            \"Production loss (M)\": \"addition_compositionality_mean_message_loss\",\n",
    "        },\n",
    "        \"accuracy_evals\": {\n",
    "            \"Perception accuracy\\n(O)\": \"addition_compositionality_mean_prediction_accuracy\",\n",
    "            \"Production accuracy\\n(M cluster)\": \"addition_compositionality_mean_message_cluster_accuracy\",\n",
    "        }\n",
    "    },\n",
    "\n",
    "    \"Compositionality as analogy\":  {       \n",
    "        \"loss_evals\": {\n",
    "            \"Perception loss (O)\": \"analogy_compositionality_net_prediction_mean_loss\",\n",
    "            \"Production loss (M)\": \"analogy_compositionality_net_message_mean_loss\"\n",
    "        },\n",
    "        \"accuracy_evals\": {\n",
    "            \"Perception accuracy (O)\": \"analogy_compositionality_net_prediction_mean_accuracy\",\n",
    "            \"Production accuracy\\n(M cluster)\": \"analogy_compositionality_net_message_cluster_mean_accuracy\"\n",
    "        }\n",
    "    },\n",
    "\n",
    "    \"Compositionality network\": { \n",
    "        \"loss_evals\": {\n",
    "            \"Perception loss (O)\": \"addition_compositionality_mean_prediction_loss\",\n",
    "            \"Production loss (M)\": \"addition_compositionality_mean_message_loss\",\n",
    "        },\n",
    "        \"accuracy_evals\": {\n",
    "            \"Perception accuracy\\n(O)\": \"addition_compositionality_mean_prediction_accuracy\",\n",
    "            \"Production accuracy\\n(M cluster)\": \"addition_compositionality_mean_message_cluster_accuracy\",\n",
    "        }\n",
    "    }\n",
    "}\n",
    "\n",
    "def plot_all_compositionality_stats(simulation_name):\n",
    "    for compo_test_name, evals in compositionality_test_to_evals.items():\n",
    "        plot_compositionality(compo_test_name, simulation_name, evals[\"loss_evals\"], evals[\"accuracy_evals\"])\n",
    "\n",
    "    \n",
    "def plot_compositionality(title, simulation_name, loss_evals, accuracy_evals, message_size=2):\n",
    "    fig, ax = plt.subplots(1,2, figsize=(10,4))\n",
    "    bar_width = 1\n",
    "\n",
    "    for i, (display_name, eval_name) in enumerate(loss_evals.items()):\n",
    "        mean, err = get_evaluation_mean_and_err(simulation_name, eval_name, message_size)\n",
    "        ax[0].bar(i, mean, yerr=err, capsize=5, color=f\"C{i}\", label=display_name)\n",
    "\n",
    "    for i, (display_name, eval_name) in enumerate(accuracy_evals.items()):\n",
    "        mean, err = get_evaluation_mean_and_err(simulation_name, eval_name, message_size)\n",
    "        ax[1].bar(i, mean, yerr=err, capsize=5, color=f\"C{i}\", label=display_name)\n",
    "\n",
    "    ax[0].set_xticks(range(len(accuracy_evals)))\n",
    "    ax[0].set_xticklabels(list(loss_evals.keys()))\n",
    "\n",
    "    ax[1].set_xticks(range(len(loss_evals)))\n",
    "    ax[1].set_xticklabels(list(accuracy_evals.keys()))\n",
    "\n",
    "    ax[0].set_ylabel(\"MSE loss\")\n",
    "    ax[1].set_ylabel(\"Accuracy\")\n",
    "    fig.suptitle(title)\n",
    "    plt.show()"
   ]
  },
  {
   "cell_type": "markdown",
   "metadata": {},
   "source": [
    "### Strict, Shared context, O=5, Encoder input = <c, f>"
   ]
  },
  {
   "cell_type": "code",
   "execution_count": null,
   "metadata": {
    "pycharm": {
     "is_executing": false
    }
   },
   "outputs": [],
   "source": [
    "simulation = \"acl_ready/extremity_game_acl_o_5__object_size_5__strict_context_1__shared_context_1__nature_includes_function_1__num_objects_10__mini_batch_size_128__num_batches_5000\"\n",
    "plot_all_compositionality_stats(simulation)"
   ]
  },
  {
   "cell_type": "markdown",
   "metadata": {},
   "source": [
    "### Strict, Non-shared context, O=5, Encoder input = <c, f>"
   ]
  },
  {
   "cell_type": "code",
   "execution_count": null,
   "metadata": {
    "pycharm": {
     "is_executing": false
    }
   },
   "outputs": [],
   "source": [
    "simulation = \"acl_ready/extremity_game_acl_o_5__object_size_5__strict_context_1__shared_context_0__nature_includes_function_1__num_objects_10__mini_batch_size_128__num_batches_5000\"\n",
    "plot_all_compositionality_stats(simulation)"
   ]
  },
  {
   "cell_type": "markdown",
   "metadata": {},
   "source": [
    "### Strict, Shared context, O=5, Encoder input = <c, f(c)>"
   ]
  },
  {
   "cell_type": "code",
   "execution_count": null,
   "metadata": {
    "pycharm": {
     "is_executing": false
    }
   },
   "outputs": [],
   "source": [
    "simulation = \"acl_ready/extremity_game_acl_o_5__object_size_5__strict_context_1__shared_context_1__nature_includes_function_0__num_objects_10__mini_batch_size_128__num_batches_5000\"\n",
    "plot_all_compositionality_stats(simulation)"
   ]
  },
  {
   "cell_type": "markdown",
   "metadata": {},
   "source": [
    "### Strict, Non-shared context, O=5, Encoder input = <c, f(c)>"
   ]
  },
  {
   "cell_type": "code",
   "execution_count": null,
   "metadata": {
    "pycharm": {
     "is_executing": false
    }
   },
   "outputs": [],
   "source": [
    "simulation=\"acl_ready/extremity_game_acl_o_5__object_size_5__strict_context_1__shared_context_0__nature_includes_function_0__num_objects_10__mini_batch_size_128__num_batches_5000\"\n",
    "plot_all_compositionality_stats(simulation)"
   ]
  },
  {
   "cell_type": "markdown",
   "metadata": {},
   "source": [
    "### Strict, Shared context, O=3, Encoder input = <c, f>"
   ]
  },
  {
   "cell_type": "code",
   "execution_count": null,
   "metadata": {
    "pycharm": {
     "is_executing": false
    }
   },
   "outputs": [],
   "source": [
    "simulation=\"acl_ready/extremity_game_acl_o_3__object_size_3__strict_context_1__shared_context_1__nature_includes_function_1__num_objects_6__mini_batch_size_128__num_batches_5000\"\n",
    "plot_all_compositionality_stats(simulation)"
   ]
  },
  {
   "cell_type": "markdown",
   "metadata": {},
   "source": [
    "### Strict, Non-shared context, O=3, Encoder input = <c, f>"
   ]
  },
  {
   "cell_type": "code",
   "execution_count": null,
   "metadata": {
    "pycharm": {
     "is_executing": false
    }
   },
   "outputs": [],
   "source": [
    "simulation=\"acl_ready/extremity_game_acl_o_3__object_size_3__strict_context_1__shared_context_0__nature_includes_function_1__num_objects_6__mini_batch_size_128__num_batches_5000\"\n",
    "plot_all_compositionality_stats(simulation)"
   ]
  },
  {
   "cell_type": "markdown",
   "metadata": {},
   "source": [
    "### Strict, Shared context, O=3, Encoder input = <c, f(c)>"
   ]
  },
  {
   "cell_type": "code",
   "execution_count": null,
   "metadata": {
    "pycharm": {
     "is_executing": false
    }
   },
   "outputs": [],
   "source": [
    "simulation=\"acl_ready/extremity_game_acl_o_3__object_size_3__strict_context_1__shared_context_1__nature_includes_function_0__num_objects_6__mini_batch_size_128__num_batches_5000\"\n",
    "plot_all_compositionality_stats(simulation)"
   ]
  },
  {
   "cell_type": "markdown",
   "metadata": {},
   "source": [
    "### Strict, Non-shared context, O=3, Encoder input = <c, f(c)>"
   ]
  },
  {
   "cell_type": "code",
   "execution_count": null,
   "metadata": {
    "pycharm": {
     "is_executing": false
    },
    "scrolled": false
   },
   "outputs": [],
   "source": [
    "simulation=\"acl_ready/extremity_game_acl_o_3__object_size_3__strict_context_1__shared_context_0__nature_includes_function_0__num_objects_6__mini_batch_size_128__num_batches_5000\"\n",
    "plot_all_compositionality_stats(simulation)"
   ]
  },
  {
   "cell_type": "markdown",
   "metadata": {},
   "source": [
    "### Untrained network"
   ]
  },
  {
   "cell_type": "code",
   "execution_count": null,
   "metadata": {
    "pycharm": {
     "is_executing": false
    }
   },
   "outputs": [],
   "source": [
    "simulation=\"acl_ready/extremity_game_acl_untrained__object_size_3__strict_context_1__shared_context_1__nature_includes_function_1__num_objects_6__mini_batch_size_128__num_batches_0\"\n",
    "plot_all_compositionality_stats(simulation)"
   ]
  },
  {
   "cell_type": "markdown",
   "metadata": {},
   "source": [
    "# Message visualizations"
   ]
  },
  {
   "cell_type": "code",
   "execution_count": null,
   "metadata": {
    "pycharm": {
     "is_executing": false
    }
   },
   "outputs": [],
   "source": [
    "def visualize_messages(simulation_name, game_number=0):\n",
    "    simulation = simulations.load_simulation(simulation_name)\n",
    "    games=simulations.load_games(simulation_name)\n",
    "    message_size = simulation.message_sizes[0]\n",
    "    games[message_size][game_number]._plot_messages_information()"
   ]
  },
  {
   "cell_type": "markdown",
   "metadata": {},
   "source": [
    "## Encoder input is <c, f>"
   ]
  },
  {
   "cell_type": "markdown",
   "metadata": {},
   "source": [
    "### Strict, shared context, O=5"
   ]
  },
  {
   "cell_type": "code",
   "execution_count": null,
   "metadata": {
    "pycharm": {
     "is_executing": false
    }
   },
   "outputs": [],
   "source": [
    "import utils\n",
    "plt.style.use('seaborn-whitegrid')\n",
    "\n",
    "simulation_name = \"acl_ready/extremity_game_acl_o_5__object_size_5__strict_context_1__shared_context_1__nature_includes_function_1__num_objects_10__mini_batch_size_128__num_batches_5000\"\n",
    "visualize_messages(simulation_name)"
   ]
  },
  {
   "cell_type": "markdown",
   "metadata": {},
   "source": [
    "### Strict, non-shared context, O=5"
   ]
  },
  {
   "cell_type": "code",
   "execution_count": null,
   "metadata": {
    "pycharm": {
     "is_executing": false
    }
   },
   "outputs": [],
   "source": [
    "simulation_name = \"acl_ready/extremity_game_acl_o_5__object_size_5__strict_context_1__shared_context_0__nature_includes_function_1__num_objects_10__mini_batch_size_128__num_batches_5000\"\n",
    "visualize_messages(simulation_name, 3)"
   ]
  },
  {
   "cell_type": "code",
   "execution_count": null,
   "metadata": {
    "pycharm": {
     "is_executing": false
    }
   },
   "outputs": [],
   "source": [
    "### Non-strict, non-shared, O=5, C=5"
   ]
  },
  {
   "cell_type": "code",
   "execution_count": null,
   "metadata": {
    "pycharm": {
     "is_executing": false
    }
   },
   "outputs": [],
   "source": [
    "simulation_name = \"acl_ready/extremity_game_acl_o_5__object_size_5__strict_context_0__shared_context_0__nature_includes_function_1__num_objects_5__mini_batch_size_128__num_batches_5000\"\n",
    "visualize_messages(simulation_name, 3)"
   ]
  },
  {
   "cell_type": "markdown",
   "metadata": {},
   "source": [
    "## Encoder input is <c, f(c)>"
   ]
  },
  {
   "cell_type": "markdown",
   "metadata": {},
   "source": [
    "### Strict, shared context, O=5"
   ]
  },
  {
   "cell_type": "code",
   "execution_count": null,
   "metadata": {
    "pycharm": {
     "is_executing": false
    }
   },
   "outputs": [],
   "source": [
    "simulation_name = \"acl_ready/extremity_game_acl_o_5__object_size_5__strict_context_1__shared_context_1__nature_includes_function_0__num_objects_10__mini_batch_size_128__num_batches_5000\"\n",
    "visualize_messages(simulation_name)"
   ]
  },
  {
   "cell_type": "markdown",
   "metadata": {},
   "source": [
    "### O=5, Non-shared context"
   ]
  },
  {
   "cell_type": "code",
   "execution_count": null,
   "metadata": {
    "pycharm": {
     "is_executing": false
    }
   },
   "outputs": [],
   "source": [
    "simulation_name = \"acl_ready/extremity_game_acl_o_5__object_size_5__strict_context_1__shared_context_0__nature_includes_function_0__num_objects_10__mini_batch_size_128__num_batches_5000\"\n",
    "visualize_messages(simulation_name)"
   ]
  },
  {
   "cell_type": "markdown",
   "metadata": {},
   "source": [
    "### O=3, Shared context"
   ]
  },
  {
   "cell_type": "code",
   "execution_count": null,
   "metadata": {
    "pycharm": {
     "is_executing": false
    }
   },
   "outputs": [],
   "source": [
    "simulation_name = \"acl_ready/extremity_game_acl_o_3__object_size_3__strict_context_1__shared_context_1__nature_includes_function_0__num_objects_6__mini_batch_size_128__num_batches_5000\"\n",
    "visualize_messages(simulation_name)"
   ]
  },
  {
   "cell_type": "markdown",
   "metadata": {},
   "source": [
    "### O=3, Non-shared context"
   ]
  },
  {
   "cell_type": "code",
   "execution_count": null,
   "metadata": {
    "pycharm": {
     "is_executing": false
    }
   },
   "outputs": [],
   "source": [
    "simulation_name = \"acl_ready/extremity_game_acl_o_3__object_size_3__strict_context_1__shared_context_0__nature_includes_function_0__num_objects_6__mini_batch_size_128__num_batches_5000\"\n",
    "visualize_messages(simulation_name)"
   ]
  },
  {
   "cell_type": "markdown",
   "metadata": {},
   "source": [
    "## Encoder input is <c, f>"
   ]
  },
  {
   "cell_type": "markdown",
   "metadata": {},
   "source": [
    "### Non-shared context"
   ]
  },
  {
   "cell_type": "code",
   "execution_count": null,
   "metadata": {
    "pycharm": {
     "is_executing": false
    }
   },
   "outputs": [],
   "source": [
    "simulation_name = \"acl_ready/extremity_game_acl_o_5__object_size_5__strict_context_1__shared_context_0__nature_includes_function_1__num_objects_10__mini_batch_size_128__num_batches_5000\"\n",
    "visualize_messages(simulation_name)"
   ]
  },
  {
   "cell_type": "markdown",
   "metadata": {},
   "source": [
    "### Untrained network, O=5"
   ]
  },
  {
   "cell_type": "code",
   "execution_count": null,
   "metadata": {
    "pycharm": {
     "is_executing": false
    }
   },
   "outputs": [],
   "source": [
    "simulation_name = \"acl_ready/extremity_game_acl_untrained__object_size_5__strict_context_1__shared_context_1__nature_includes_function_1__num_objects_6__mini_batch_size_128__num_batches_0\"\n",
    "visualize_messages(simulation_name, 6)"
   ]
  },
  {
   "cell_type": "markdown",
   "metadata": {},
   "source": [
    "### Untrained network, O=3"
   ]
  },
  {
   "cell_type": "code",
   "execution_count": null,
   "metadata": {
    "pycharm": {
     "is_executing": false
    }
   },
   "outputs": [],
   "source": [
    "simulation_name = \"acl_ready/extremity_game_acl_untrained__object_size_3__strict_context_1__shared_context_1__nature_includes_function_1__num_objects_6__mini_batch_size_128__num_batches_0\"\n",
    "visualize_messages(simulation_name)"
   ]
  },
  {
   "cell_type": "code",
   "execution_count": null,
   "metadata": {
    "pycharm": {
     "is_executing": false
    }
   },
   "outputs": [],
   "source": []
  }
 ],
 "metadata": {
  "kernelspec": {
   "display_name": "Python 3",
   "language": "python",
   "name": "python3"
  },
  "language_info": {
   "codemirror_mode": {
    "name": "ipython",
    "version": 3
   },
   "file_extension": ".py",
   "mimetype": "text/x-python",
   "name": "python",
   "nbconvert_exporter": "python",
   "pygments_lexer": "ipython3",
   "version": "3.8.1"
  },
  "pycharm": {
   "stem_cell": {
    "cell_type": "raw",
    "metadata": {
     "collapsed": false
    },
    "source": []
   }
  }
 },
 "nbformat": 4,
 "nbformat_minor": 2
}
